{
 "cells": [
  {
   "cell_type": "markdown",
   "metadata": {},
   "source": [
    "* [webdriver-manager github](https://github.com/SergeyPirogov/webdriver_manager)\n",
    "* [webdriver-manager PYPI](https://pypi.org/project/webdriver-manager/#use-with-ie)"
   ]
  },
  {
   "cell_type": "code",
   "execution_count": 6,
   "metadata": {},
   "outputs": [
    {
     "name": "stdout",
     "output_type": "stream",
     "text": [
      "Collecting webdriver-manager\n",
      "  Obtaining dependency information for webdriver-manager from https://files.pythonhosted.org/packages/b5/b5/3bd0b038d80950ec13e6a2c8d03ed8354867dc60064b172f2f4ffac8afbe/webdriver_manager-4.0.2-py2.py3-none-any.whl.metadata\n",
      "  Downloading webdriver_manager-4.0.2-py2.py3-none-any.whl.metadata (12 kB)\n",
      "Requirement already satisfied: requests in c:\\users\\user\\anaconda3\\lib\\site-packages (from webdriver-manager) (2.32.3)\n",
      "Requirement already satisfied: python-dotenv in c:\\users\\user\\anaconda3\\lib\\site-packages (from webdriver-manager) (0.21.0)\n",
      "Requirement already satisfied: packaging in c:\\users\\user\\anaconda3\\lib\\site-packages (from webdriver-manager) (24.2)\n",
      "Requirement already satisfied: charset-normalizer<4,>=2 in c:\\users\\user\\anaconda3\\lib\\site-packages (from requests->webdriver-manager) (3.3.2)\n",
      "Requirement already satisfied: idna<4,>=2.5 in c:\\users\\user\\anaconda3\\lib\\site-packages (from requests->webdriver-manager) (3.7)\n",
      "Requirement already satisfied: urllib3<3,>=1.21.1 in c:\\users\\user\\anaconda3\\lib\\site-packages (from requests->webdriver-manager) (2.3.0)\n",
      "Requirement already satisfied: certifi>=2017.4.17 in c:\\users\\user\\anaconda3\\lib\\site-packages (from requests->webdriver-manager) (2025.1.31)\n",
      "Downloading webdriver_manager-4.0.2-py2.py3-none-any.whl (27 kB)\n",
      "Installing collected packages: webdriver-manager\n",
      "Successfully installed webdriver-manager-4.0.2\n",
      "Note: you may need to restart the kernel to use updated packages.\n"
     ]
    }
   ],
   "source": [
    "%pip install webdriver-manager"
   ]
  },
  {
   "cell_type": "code",
   "execution_count": 7,
   "metadata": {},
   "outputs": [
    {
     "name": "stdout",
     "output_type": "stream",
     "text": [
      "Collecting selenium\n",
      "  Obtaining dependency information for selenium from https://files.pythonhosted.org/packages/f3/2b/dee1c58bde0a747b2d75fa7282a190885a726fe95b18b8ce1dc52f9c0983/selenium-4.34.2-py3-none-any.whl.metadata\n",
      "  Downloading selenium-4.34.2-py3-none-any.whl.metadata (7.5 kB)\n",
      "Collecting urllib3[socks]~=2.5.0 (from selenium)\n",
      "  Obtaining dependency information for urllib3[socks]~=2.5.0 from https://files.pythonhosted.org/packages/a7/c2/fe1e52489ae3122415c51f387e221dd0773709bad6c6cdaa599e8a2c5185/urllib3-2.5.0-py3-none-any.whl.metadata\n",
      "  Downloading urllib3-2.5.0-py3-none-any.whl.metadata (6.5 kB)\n",
      "Collecting trio~=0.30.0 (from selenium)\n",
      "  Obtaining dependency information for trio~=0.30.0 from https://files.pythonhosted.org/packages/69/8e/3f6dfda475ecd940e786defe6df6c500734e686c9cd0a0f8ef6821e9b2f2/trio-0.30.0-py3-none-any.whl.metadata\n",
      "  Downloading trio-0.30.0-py3-none-any.whl.metadata (8.5 kB)\n",
      "Collecting trio-websocket~=0.12.2 (from selenium)\n",
      "  Obtaining dependency information for trio-websocket~=0.12.2 from https://files.pythonhosted.org/packages/c7/19/eb640a397bba49ba49ef9dbe2e7e5c04202ba045b6ce2ec36e9cadc51e04/trio_websocket-0.12.2-py3-none-any.whl.metadata\n",
      "  Downloading trio_websocket-0.12.2-py3-none-any.whl.metadata (5.1 kB)\n",
      "Collecting certifi>=2025.6.15 (from selenium)\n",
      "  Obtaining dependency information for certifi>=2025.6.15 from https://files.pythonhosted.org/packages/4f/52/34c6cf5bb9285074dc3531c437b3919e825d976fde097a7a73f79e726d03/certifi-2025.7.14-py3-none-any.whl.metadata\n",
      "  Downloading certifi-2025.7.14-py3-none-any.whl.metadata (2.4 kB)\n",
      "Collecting typing_extensions~=4.14.0 (from selenium)\n",
      "  Obtaining dependency information for typing_extensions~=4.14.0 from https://files.pythonhosted.org/packages/b5/00/d631e67a838026495268c2f6884f3711a15a9a2a96cd244fdaea53b823fb/typing_extensions-4.14.1-py3-none-any.whl.metadata\n",
      "  Downloading typing_extensions-4.14.1-py3-none-any.whl.metadata (3.0 kB)\n",
      "Requirement already satisfied: websocket-client~=1.8.0 in c:\\users\\user\\anaconda3\\lib\\site-packages (from selenium) (1.8.0)\n",
      "Requirement already satisfied: attrs>=23.2.0 in c:\\users\\user\\anaconda3\\lib\\site-packages (from trio~=0.30.0->selenium) (24.3.0)\n",
      "Collecting sortedcontainers (from trio~=0.30.0->selenium)\n",
      "  Obtaining dependency information for sortedcontainers from https://files.pythonhosted.org/packages/32/46/9cb0e58b2deb7f82b84065f37f3bffeb12413f947f9388e4cac22c4621ce/sortedcontainers-2.4.0-py2.py3-none-any.whl.metadata\n",
      "  Downloading sortedcontainers-2.4.0-py2.py3-none-any.whl.metadata (10 kB)\n",
      "Requirement already satisfied: idna in c:\\users\\user\\anaconda3\\lib\\site-packages (from trio~=0.30.0->selenium) (3.7)\n",
      "Collecting outcome (from trio~=0.30.0->selenium)\n",
      "  Obtaining dependency information for outcome from https://files.pythonhosted.org/packages/55/8b/5ab7257531a5d830fc8000c476e63c935488d74609b50f9384a643ec0a62/outcome-1.3.0.post0-py2.py3-none-any.whl.metadata\n",
      "  Downloading outcome-1.3.0.post0-py2.py3-none-any.whl.metadata (2.6 kB)\n",
      "Requirement already satisfied: sniffio>=1.3.0 in c:\\users\\user\\anaconda3\\lib\\site-packages (from trio~=0.30.0->selenium) (1.3.0)\n",
      "Requirement already satisfied: cffi>=1.14 in c:\\users\\user\\anaconda3\\lib\\site-packages (from trio~=0.30.0->selenium) (1.17.1)\n",
      "Collecting wsproto>=0.14 (from trio-websocket~=0.12.2->selenium)\n",
      "  Obtaining dependency information for wsproto>=0.14 from https://files.pythonhosted.org/packages/78/58/e860788190eba3bcce367f74d29c4675466ce8dddfba85f7827588416f01/wsproto-1.2.0-py3-none-any.whl.metadata\n",
      "  Downloading wsproto-1.2.0-py3-none-any.whl.metadata (5.6 kB)\n",
      "Requirement already satisfied: pysocks!=1.5.7,<2.0,>=1.5.6 in c:\\users\\user\\anaconda3\\lib\\site-packages (from urllib3[socks]~=2.5.0->selenium) (1.7.1)\n",
      "Requirement already satisfied: pycparser in c:\\users\\user\\anaconda3\\lib\\site-packages (from cffi>=1.14->trio~=0.30.0->selenium) (2.21)\n",
      "Requirement already satisfied: h11<1,>=0.9.0 in c:\\users\\user\\anaconda3\\lib\\site-packages (from wsproto>=0.14->trio-websocket~=0.12.2->selenium) (0.14.0)\n",
      "Downloading selenium-4.34.2-py3-none-any.whl (9.4 MB)\n",
      "   ---------------------------------------- 0.0/9.4 MB ? eta -:--:--\n",
      "   ---------------------------------------- 0.0/9.4 MB 660.6 kB/s eta 0:00:15\n",
      "    --------------------------------------- 0.1/9.4 MB 1.7 MB/s eta 0:00:06\n",
      "    --------------------------------------- 0.2/9.4 MB 1.1 MB/s eta 0:00:09\n",
      "    --------------------------------------- 0.2/9.4 MB 1.4 MB/s eta 0:00:07\n",
      "   - -------------------------------------- 0.3/9.4 MB 1.4 MB/s eta 0:00:07\n",
      "   - -------------------------------------- 0.4/9.4 MB 1.4 MB/s eta 0:00:07\n",
      "   -- ------------------------------------- 0.5/9.4 MB 1.6 MB/s eta 0:00:06\n",
      "   -- ------------------------------------- 0.7/9.4 MB 1.9 MB/s eta 0:00:05\n",
      "   --- ------------------------------------ 0.8/9.4 MB 1.8 MB/s eta 0:00:05\n",
      "   --- ------------------------------------ 0.9/9.4 MB 1.9 MB/s eta 0:00:05\n",
      "   ---- ----------------------------------- 1.0/9.4 MB 2.0 MB/s eta 0:00:05\n",
      "   ----- ---------------------------------- 1.2/9.4 MB 2.1 MB/s eta 0:00:04\n",
      "   ----- ---------------------------------- 1.3/9.4 MB 2.2 MB/s eta 0:00:04\n",
      "   ----- ---------------------------------- 1.4/9.4 MB 2.3 MB/s eta 0:00:04\n",
      "   ------ --------------------------------- 1.5/9.4 MB 2.3 MB/s eta 0:00:04\n",
      "   ------- -------------------------------- 1.8/9.4 MB 2.4 MB/s eta 0:00:04\n",
      "   ------- -------------------------------- 1.8/9.4 MB 2.3 MB/s eta 0:00:04\n",
      "   -------- ------------------------------- 2.0/9.4 MB 2.4 MB/s eta 0:00:04\n",
      "   --------- ------------------------------ 2.1/9.4 MB 2.5 MB/s eta 0:00:03\n",
      "   --------- ------------------------------ 2.2/9.4 MB 2.5 MB/s eta 0:00:03\n",
      "   ---------- ----------------------------- 2.4/9.4 MB 2.5 MB/s eta 0:00:03\n",
      "   ---------- ----------------------------- 2.5/9.4 MB 2.5 MB/s eta 0:00:03\n",
      "   ----------- ---------------------------- 2.7/9.4 MB 2.6 MB/s eta 0:00:03\n",
      "   ------------ --------------------------- 2.9/9.4 MB 2.6 MB/s eta 0:00:03\n",
      "   ------------- -------------------------- 3.1/9.4 MB 2.6 MB/s eta 0:00:03\n",
      "   ------------- -------------------------- 3.1/9.4 MB 2.5 MB/s eta 0:00:03\n",
      "   -------------- ------------------------- 3.4/9.4 MB 2.7 MB/s eta 0:00:03\n",
      "   --------------- ------------------------ 3.6/9.4 MB 2.8 MB/s eta 0:00:03\n",
      "   ---------------- ----------------------- 3.9/9.4 MB 2.9 MB/s eta 0:00:02\n",
      "   ----------------- ---------------------- 4.2/9.4 MB 3.0 MB/s eta 0:00:02\n",
      "   ------------------- -------------------- 4.5/9.4 MB 3.1 MB/s eta 0:00:02\n",
      "   -------------------- ------------------- 4.7/9.4 MB 3.2 MB/s eta 0:00:02\n",
      "   --------------------- ------------------ 5.1/9.4 MB 3.4 MB/s eta 0:00:02\n",
      "   ----------------------- ---------------- 5.4/9.4 MB 3.4 MB/s eta 0:00:02\n",
      "   ----------------------- ---------------- 5.4/9.4 MB 3.4 MB/s eta 0:00:02\n",
      "   ------------------------ --------------- 5.8/9.4 MB 3.4 MB/s eta 0:00:02\n",
      "   ------------------------- -------------- 6.0/9.4 MB 3.5 MB/s eta 0:00:01\n",
      "   ---------------------------- ----------- 6.7/9.4 MB 3.7 MB/s eta 0:00:01\n",
      "   ---------------------------- ----------- 6.8/9.4 MB 3.7 MB/s eta 0:00:01\n",
      "   ------------------------------ --------- 7.2/9.4 MB 3.8 MB/s eta 0:00:01\n",
      "   -------------------------------- ------- 7.6/9.4 MB 3.9 MB/s eta 0:00:01\n",
      "   -------------------------------- ------- 7.6/9.4 MB 3.9 MB/s eta 0:00:01\n",
      "   ---------------------------------- ----- 8.0/9.4 MB 4.0 MB/s eta 0:00:01\n",
      "   ------------------------------------ --- 8.6/9.4 MB 4.1 MB/s eta 0:00:01\n",
      "   ---------------------------------------  9.4/9.4 MB 4.5 MB/s eta 0:00:01\n",
      "   ---------------------------------------  9.4/9.4 MB 4.5 MB/s eta 0:00:01\n",
      "   ---------------------------------------- 9.4/9.4 MB 4.3 MB/s eta 0:00:00\n",
      "Downloading certifi-2025.7.14-py3-none-any.whl (162 kB)\n",
      "   ---------------------------------------- 0.0/162.7 kB ? eta -:--:--\n",
      "   --------------------------------------- 162.7/162.7 kB 10.2 MB/s eta 0:00:00\n",
      "Downloading trio-0.30.0-py3-none-any.whl (499 kB)\n",
      "   ---------------------------------------- 0.0/499.2 kB ? eta -:--:--\n",
      "   --------------------------------------- 499.2/499.2 kB 10.4 MB/s eta 0:00:00\n",
      "Downloading trio_websocket-0.12.2-py3-none-any.whl (21 kB)\n",
      "Downloading typing_extensions-4.14.1-py3-none-any.whl (43 kB)\n",
      "   ---------------------------------------- 0.0/43.9 kB ? eta -:--:--\n",
      "   ------------------------------------- -- 41.0/43.9 kB ? eta -:--:--\n",
      "   ------------------------------------- -- 41.0/43.9 kB ? eta -:--:--\n",
      "   ------------------------------------- -- 41.0/43.9 kB ? eta -:--:--\n",
      "   ---------------------------------------- 43.9/43.9 kB 269.3 kB/s eta 0:00:00\n",
      "Downloading outcome-1.3.0.post0-py2.py3-none-any.whl (10 kB)\n",
      "Downloading wsproto-1.2.0-py3-none-any.whl (24 kB)\n",
      "Downloading sortedcontainers-2.4.0-py2.py3-none-any.whl (29 kB)\n",
      "Downloading urllib3-2.5.0-py3-none-any.whl (129 kB)\n",
      "   ---------------------------------------- 0.0/129.8 kB ? eta -:--:--\n",
      "   ---------------------------------------- 129.8/129.8 kB 8.0 MB/s eta 0:00:00\n",
      "Installing collected packages: sortedcontainers, wsproto, urllib3, typing_extensions, outcome, certifi, trio, trio-websocket, selenium\n",
      "  Attempting uninstall: urllib3\n",
      "    Found existing installation: urllib3 2.3.0\n",
      "    Uninstalling urllib3-2.3.0:\n",
      "      Successfully uninstalled urllib3-2.3.0\n",
      "  Attempting uninstall: typing_extensions\n",
      "    Found existing installation: typing_extensions 4.12.2\n",
      "    Uninstalling typing_extensions-4.12.2:\n",
      "      Successfully uninstalled typing_extensions-4.12.2\n",
      "  Attempting uninstall: certifi\n",
      "    Found existing installation: certifi 2025.1.31\n",
      "    Uninstalling certifi-2025.1.31:\n",
      "      Successfully uninstalled certifi-2025.1.31\n",
      "Successfully installed certifi-2025.7.14 outcome-1.3.0.post0 selenium-4.34.2 sortedcontainers-2.4.0 trio-0.30.0 trio-websocket-0.12.2 typing_extensions-4.14.1 urllib3-2.5.0 wsproto-1.2.0\n",
      "Note: you may need to restart the kernel to use updated packages.\n"
     ]
    },
    {
     "name": "stderr",
     "output_type": "stream",
     "text": [
      "ERROR: pip's dependency resolver does not currently take into account all the packages that are installed. This behaviour is the source of the following dependency conflicts.\n",
      "pydantic 2.10.3 requires pydantic-core==2.27.1, but you have pydantic-core 2.23.4 which is incompatible.\n"
     ]
    },
    {
     "name": "stdout",
     "output_type": "stream",
     "text": [
      "Name: selenium\n",
      "Version: 4.34.2\n",
      "Summary: Official Python bindings for Selenium WebDriver\n",
      "Home-page: https://www.selenium.dev\n",
      "Author: \n",
      "Author-email: \n",
      "License: Apache 2.0\n",
      "Location: C:\\Users\\USER\\anaconda3\\Lib\\site-packages\n",
      "Requires: certifi, trio, trio-websocket, typing_extensions, urllib3, websocket-client\n",
      "Required-by: \n"
     ]
    }
   ],
   "source": [
    "%pip install selenium\n",
    "!pip show selenium"
   ]
  },
  {
   "cell_type": "code",
   "execution_count": 8,
   "metadata": {},
   "outputs": [
    {
     "data": {
      "text/plain": [
       "'4.34.2'"
      ]
     },
     "execution_count": 8,
     "metadata": {},
     "output_type": "execute_result"
    }
   ],
   "source": [
    "import selenium\n",
    "\n",
    "selenium.__version__"
   ]
  },
  {
   "cell_type": "markdown",
   "metadata": {},
   "source": [
    "### WebDriver 의 Chrome 객체생성\n",
    "* python.org 웹사이트로 요청을 보내기\n",
    "* pypi 메뉴를 클릭해서 pypi.org 웹사이트로 이동하기"
   ]
  },
  {
   "cell_type": "code",
   "execution_count": 9,
   "metadata": {},
   "outputs": [
    {
     "name": "stdout",
     "output_type": "stream",
     "text": [
      "[<selenium.webdriver.remote.webelement.WebElement (session=\"c0f78a041dfe75e2b41a428322b3fe9c\", element=\"f.B66FD50C7F4B665A81F4C74F5B8B0CF5.d.2143191701473ACF20BA777C6CEDAA60.e.43\")>, <selenium.webdriver.remote.webelement.WebElement (session=\"c0f78a041dfe75e2b41a428322b3fe9c\", element=\"f.B66FD50C7F4B665A81F4C74F5B8B0CF5.d.2143191701473ACF20BA777C6CEDAA60.e.44\")>, <selenium.webdriver.remote.webelement.WebElement (session=\"c0f78a041dfe75e2b41a428322b3fe9c\", element=\"f.B66FD50C7F4B665A81F4C74F5B8B0CF5.d.2143191701473ACF20BA777C6CEDAA60.e.45\")>, <selenium.webdriver.remote.webelement.WebElement (session=\"c0f78a041dfe75e2b41a428322b3fe9c\", element=\"f.B66FD50C7F4B665A81F4C74F5B8B0CF5.d.2143191701473ACF20BA777C6CEDAA60.e.46\")>, <selenium.webdriver.remote.webelement.WebElement (session=\"c0f78a041dfe75e2b41a428322b3fe9c\", element=\"f.B66FD50C7F4B665A81F4C74F5B8B0CF5.d.2143191701473ACF20BA777C6CEDAA60.e.47\")>, <selenium.webdriver.remote.webelement.WebElement (session=\"c0f78a041dfe75e2b41a428322b3fe9c\", element=\"f.B66FD50C7F4B665A81F4C74F5B8B0CF5.d.2143191701473ACF20BA777C6CEDAA60.e.48\")>]\n",
      "Python <class 'selenium.webdriver.remote.webelement.WebElement'>\n",
      "PSF <class 'selenium.webdriver.remote.webelement.WebElement'>\n",
      "Docs <class 'selenium.webdriver.remote.webelement.WebElement'>\n",
      "PyPI <class 'selenium.webdriver.remote.webelement.WebElement'>\n",
      "Jobs <class 'selenium.webdriver.remote.webelement.WebElement'>\n",
      "Community <class 'selenium.webdriver.remote.webelement.WebElement'>\n"
     ]
    }
   ],
   "source": [
    "from selenium import webdriver\n",
    "from selenium.webdriver.chrome.service import Service\n",
    "from webdriver_manager.chrome import ChromeDriverManager\n",
    "from selenium.webdriver.common.by import By\n",
    "import time\n",
    "\n",
    "driver = webdriver.Chrome(service=Service(ChromeDriverManager().install()))\n",
    "driver.get(\"https://www.python.org/\")\n",
    "\n",
    "#webdriver에 포함된 Chrome 객체를 생성 - chromedriver.exe 사용해서\n",
    "\n",
    "#li 엘리먼트 선택해서 가져오기\n",
    "li_tags = driver.find_elements(By.CSS_SELECTOR,'div#top ul.menu li')\n",
    "print(li_tags)\n",
    "#pypi 엘리먼트를 찾아서 저장할 변수 선언\n",
    "pypi = None\n",
    "for li_tag in li_tags:\n",
    "    print(li_tag.text, type(li_tag))\n",
    "    if li_tag.text == 'PyPI':\n",
    "        pypi = li_tag\n",
    "        \n",
    "time.sleep(3)\n",
    "\n",
    "#pypi 엘리멘트의 click() 함수 호출\n",
    "pypi.click()\n",
    "\n",
    "#5초로 waiting time 설정\n",
    "time.sleep(5)\n",
    "#driver 종료\n",
    "driver.quit()"
   ]
  },
  {
   "cell_type": "markdown",
   "metadata": {},
   "source": [
    "### 네이버 포털의 image를 save 해보기"
   ]
  },
  {
   "cell_type": "code",
   "execution_count": 6,
   "metadata": {},
   "outputs": [],
   "source": [
    "import os\n",
    "#img 디렉토리 생성\n",
    "#img 디렉토리가 없으면\n",
    "if not os.path.isdir('img'):\n",
    "    os.mkdir('img')   "
   ]
  },
  {
   "cell_type": "code",
   "execution_count": 7,
   "metadata": {},
   "outputs": [],
   "source": [
    "from selenium import webdriver\n",
    "from selenium.webdriver.chrome.service import Service\n",
    "from webdriver_manager.chrome import ChromeDriverManager\n",
    "import time\n",
    "\n",
    "driver = webdriver.Chrome(service=Service(ChromeDriverManager().install()))\n",
    "driver.get(\"https://www.naver.com/\")\n",
    "driver.save_screenshot('img/naver.png')\n",
    "\n",
    "time.sleep(3)\n",
    "driver.quit()"
   ]
  },
  {
   "cell_type": "markdown",
   "metadata": {},
   "source": [
    "### 네이버 포털에 파이썬 검색어를 입력\n",
    "* 검색어를 입력하고 엔터를 치고\n",
    "* 검색된 결과중에서 지식인에 검색된 링크를 클릭"
   ]
  },
  {
   "cell_type": "code",
   "execution_count": 6,
   "metadata": {},
   "outputs": [],
   "source": [
    "from selenium import webdriver\n",
    "from selenium.webdriver.chrome.service import Service\n",
    "from webdriver_manager.chrome import ChromeDriverManager\n",
    "from selenium.webdriver.common.by import By\n",
    "from selenium.webdriver.common.keys import Keys\n",
    "import time\n",
    "\n",
    "driver = webdriver.Chrome(service=Service(ChromeDriverManager().install()))\n",
    "#네이버 포털에 요청 보내기\n",
    "driver.get('https://www.naver.com/')\n",
    "time.sleep(2)\n",
    "\n",
    "#검색어 엘리먼트 가져오기\n",
    "search_tag = driver.find_element(By.CSS_SELECTOR,'#query')\n",
    "#print(search_tag)\n",
    "\n",
    "#검색창에 파이썬 키워드를 입력한다.\n",
    "search_tag.send_keys('python')\n",
    "#엔터를 입력한다.\n",
    "search_tag.send_keys(Keys.ENTER)\n",
    "time.sleep(5)\n",
    "\n",
    "#검색된 결과 중에서 a tag 가져오기 <a class='lnk_tit'>\n",
    "a_tags = driver.find_elements(By.CSS_SELECTOR,'a.lnk_tit')\n",
    "if a_tags:\n",
    "    #첫번째 a tag 선택하고, click() 함수 호출\n",
    "    a_tags[0].click()\n",
    "\n",
    "#지연 시간을 5초로 설정\n",
    "time.sleep(5)\n",
    "#driver 종료\n",
    "driver.quit()"
   ]
  },
  {
   "cell_type": "markdown",
   "metadata": {},
   "source": [
    "### GitHub 로그인 / 로그아웃\n",
    "* id 와 password를 입력하고 패스워드 필드에서 엔터를 치거나 로그인 버튼 클릭해서 로그인\n",
    "* 로그인 후에 이름과 메일건수를 알아내기\n",
    "* 로그아웃 버튼을 클릭해서 로그아웃 "
   ]
  },
  {
   "cell_type": "markdown",
   "metadata": {},
   "source": [
    "### 로그인 실패할 경우 처리한 코드"
   ]
  },
  {
   "cell_type": "code",
   "execution_count": 7,
   "metadata": {},
   "outputs": [
    {
     "name": "stdout",
     "output_type": "stream",
     "text": [
      "login_ok True\n",
      "'WebDriver' object has no attribute 'find_elements_by_name'\n"
     ]
    }
   ],
   "source": [
    "from selenium import webdriver\n",
    "from selenium.webdriver.chrome.service import Service\n",
    "from webdriver_manager.chrome import ChromeDriverManager\n",
    "from selenium.webdriver.common.by import By\n",
    "from selenium.webdriver.common.keys import Keys\n",
    "import time\n",
    "\n",
    "from selenium.webdriver.support.ui import WebDriverWait\n",
    "from selenium.webdriver.support import expected_conditions as EC\n",
    "from selenium.webdriver.common.by import By\n",
    "\n",
    "from selenium.common.exceptions import NoSuchElementException\n",
    "\n",
    "url = 'https://github.com/login'\n",
    "\n",
    "driver = webdriver.Chrome(service=Service(ChromeDriverManager().install()))\n",
    "#github login에 요청 보내기\n",
    "driver.get(url)\n",
    "\n",
    "#웹리소스 로딩을 위해서 2초 wait를 반드시 해주어야 합니다. \n",
    "#클래스 선택자를 못가져오고 에러가 발생했던 원인은 웹리소스들이 로딩이 되기 전에 tag를 가져와서 에러가 발생하였음\n",
    "driver.implicitly_wait(2)\n",
    "\n",
    "#time.sleep(2)\n",
    "\n",
    "#id와 password를 엘리먼트 찾고, 값을 입력하기\n",
    "driver.find_element(By.CSS_SELECTOR,'input#login_field').send_keys('user')\n",
    "driver.find_element(By.CSS_SELECTOR,'input#password').send_keys('pass')\n",
    "time.sleep(2)\n",
    "\n",
    "# #password필드에서 엔터치기\n",
    "driver.find_element(By.CSS_SELECTOR,'input#password').send_keys(Keys.RETURN)\n",
    "\n",
    "login_ok = None\n",
    "try:        \n",
    "    div_error = driver.find_element(By.CSS_SELECTOR,'div.js-flash-alert')\n",
    "    print(div_error)\n",
    "    if div_error:\n",
    "        login_ok = False\n",
    "        print(\"login fail ----------------\",login_ok)    \n",
    "except NoSuchElementException as nexp:\n",
    "    # 로그인 정상이면 div.js-flash-alert 태그가 없으므로 NoSuchElementException 이 발생함\n",
    "    login_ok = True\n",
    "except Exception as exp:\n",
    "    print(exp)\n",
    "\n",
    "print('login_ok', login_ok)\n",
    "\n",
    "if login_ok:    \n",
    "    try:\n",
    "        # 아바타 버튼 선택해서 클릭\n",
    "        avatar_img = driver.find_elements(By.CSS_SELECTOR, 'span.Button-label img')\n",
    "        if avatar_img:\n",
    "            avatar_img[0].click()\n",
    "            time.sleep(4)\n",
    "            \n",
    "            # repositories 메뉴 선택해서 클릭\n",
    "            repo_a_tag = driver.find_elements(By.CSS_SELECTOR,\"a[href*='?tab=repositories']\")\n",
    "            if repo_a_tag:\n",
    "                repo_a_tag[0].click()\n",
    "            time.sleep(4)\n",
    "\n",
    "            # repository 목록에서 첫번째 repository 클릭\n",
    "            repo1_a_tags = driver.find_elements(By.CSS_SELECTOR,\"ul li.col-12 h3.wb-break-all a\")\n",
    "            if repo1_a_tags:\n",
    "                repo1_a_tags[0].click()\n",
    "            time.sleep(4)\n",
    "            \n",
    "        # 아바타 버튼 선택해서 클릭            \n",
    "        avatar_img = driver.find_elements(By.CSS_SELECTOR, 'span.Button-label img')\n",
    "        if avatar_img:\n",
    "            avatar_img[0].click()\n",
    "            time.sleep(4)\n",
    "            \n",
    "            # 로그아웃 메뉴 선택해서 클릭\n",
    "            logout_a_tag = driver.find_elements(By.CSS_SELECTOR,\"a[href='/logout']\")\n",
    "            if logout_a_tag:\n",
    "                logout_a_tag[0].click()\n",
    "                \n",
    "        time.sleep(2)\n",
    "        #logout_input = driver.find_elements(By.CSS_SELECTOR,\"form input[name='commit']\")\n",
    "        logout_input = driver.find_elements_by_name(\"commit\")\n",
    "        if logout_input:\n",
    "            logout_input.submit()\n",
    "        time.sleep(2)\n",
    "        \n",
    "    except Exception as exp:\n",
    "        print(exp)\n",
    "\n",
    "time.sleep(3)\n",
    "driver.quit()"
   ]
  },
  {
   "cell_type": "code",
   "execution_count": null,
   "metadata": {},
   "outputs": [],
   "source": []
  },
  {
   "cell_type": "code",
   "execution_count": null,
   "metadata": {},
   "outputs": [],
   "source": []
  },
  {
   "cell_type": "code",
   "execution_count": null,
   "metadata": {},
   "outputs": [],
   "source": []
  }
 ],
 "metadata": {
  "kernelspec": {
   "display_name": "base",
   "language": "python",
   "name": "python3"
  },
  "language_info": {
   "codemirror_mode": {
    "name": "ipython",
    "version": 3
   },
   "file_extension": ".py",
   "mimetype": "text/x-python",
   "name": "python",
   "nbconvert_exporter": "python",
   "pygments_lexer": "ipython3",
   "version": "3.11.11"
  }
 },
 "nbformat": 4,
 "nbformat_minor": 4
}
